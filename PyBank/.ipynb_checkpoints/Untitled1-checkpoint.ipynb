{
 "cells": [
  {
   "cell_type": "code",
   "execution_count": 4,
   "id": "820d3315",
   "metadata": {},
   "outputs": [
    {
     "ename": "TypeError",
     "evalue": "'delimeter' is an invalid keyword argument for this function",
     "output_type": "error",
     "traceback": [
      "\u001b[0;31m---------------------------------------------------------------------------\u001b[0m",
      "\u001b[0;31mTypeError\u001b[0m                                 Traceback (most recent call last)",
      "\u001b[0;32m/var/folders/yr/mvbgq8nd3px65zgs8fcfmmk00000gn/T/ipykernel_62532/2028362299.py\u001b[0m in \u001b[0;36m<module>\u001b[0;34m\u001b[0m\n\u001b[1;32m     12\u001b[0m \u001b[0;34m\u001b[0m\u001b[0m\n\u001b[1;32m     13\u001b[0m \u001b[0;32mwith\u001b[0m \u001b[0mopen\u001b[0m\u001b[0;34m(\u001b[0m\u001b[0mcsvpath\u001b[0m\u001b[0;34m)\u001b[0m \u001b[0;32mas\u001b[0m \u001b[0mcsvfile\u001b[0m\u001b[0;34m:\u001b[0m\u001b[0;34m\u001b[0m\u001b[0;34m\u001b[0m\u001b[0m\n\u001b[0;32m---> 14\u001b[0;31m     \u001b[0mcsvreader\u001b[0m \u001b[0;34m=\u001b[0m \u001b[0mcsv\u001b[0m\u001b[0;34m.\u001b[0m\u001b[0mreader\u001b[0m\u001b[0;34m(\u001b[0m\u001b[0mcsvfile\u001b[0m\u001b[0;34m,\u001b[0m \u001b[0mdelimeter\u001b[0m\u001b[0;34m=\u001b[0m\u001b[0;34m','\u001b[0m\u001b[0;34m)\u001b[0m\u001b[0;34m\u001b[0m\u001b[0;34m\u001b[0m\u001b[0m\n\u001b[0m\u001b[1;32m     15\u001b[0m     \u001b[0mnext\u001b[0m\u001b[0;34m(\u001b[0m\u001b[0mcsvreader\u001b[0m\u001b[0;34m)\u001b[0m\u001b[0;34m\u001b[0m\u001b[0;34m\u001b[0m\u001b[0m\n\u001b[1;32m     16\u001b[0m \u001b[0;34m\u001b[0m\u001b[0m\n",
      "\u001b[0;31mTypeError\u001b[0m: 'delimeter' is an invalid keyword argument for this function"
     ]
    }
   ],
   "source": [
    "import os\n",
    "\n",
    "import csv\n",
    "\n",
    "totalmonths = 0\n",
    "total = 0 \n",
    "change = []\n",
    "profitloss = []\n",
    "month = []\n",
    "\n",
    "csvpath = os.path.join ('resources', 'budget_data.csv')\n",
    "\n",
    "with open(csvpath) as csvfile:\n",
    "    csvreader = csv.reader(csvfile, delimeter=',')\n",
    "    next(csvreader)\n",
    "\n",
    "    for csvrow in csvreader:\n",
    "\n",
    "\n",
    "        totalmonths+=1\n",
    "\n",
    "    \n",
    "        total+=int(csvrow[1])\n",
    "\n",
    "\n",
    "        profitloss.append(int(csvrow[1]))\n",
    "\n",
    "    \n",
    "        change.append(profitloss[totalmonths-1]-profitloss[totalmonths-2])     \n",
    "\n",
    "  \n",
    "        totalchange = sum(change)\n",
    "\n",
    "        averagechange = round(totalchange/(len(change)-1),2)\n",
    "\n",
    "        inc_profit = max(change)\n",
    "        grt_increase = change.index(inc_profit)\n",
    "\n",
    "        dec_profit = min(change)\n",
    "        grt_decrease = change(dec_profit)\n",
    "\n",
    "\n",
    "outputh_path = \"Budget_Analysis.txt\"\n",
    "\n",
    "file = open(outputh_path, 'w')\n",
    "\n",
    "\n",
    "file.write(\"Financial Analysis\\n\")\n",
    "file.write(\"--------------------------\\n\")\n",
    "file.write(f\"Total Months: {totalmonths}\\n\")\n",
    "file.write(f\"Total: ${total}\\n\")\n",
    "file.write(f\"Average Change: ${averagechange}\\n\")\n",
    "file.write(f\"Greatest Increase in Profits : {month[grt_increase]} (${inc_profit})\\n\")\n",
    "file.write(f\"Greatest Decrease in Profits : {month[grt_decrease]} (${dec_profit})\\n\")\n",
    "\n",
    "\n",
    "\n",
    "file.close()\n",
    "\n",
    "\n",
    "\n",
    "\n"
   ]
  },
  {
   "cell_type": "code",
   "execution_count": null,
   "id": "331fb9cf",
   "metadata": {},
   "outputs": [],
   "source": []
  },
  {
   "cell_type": "code",
   "execution_count": null,
   "id": "1d382136",
   "metadata": {},
   "outputs": [],
   "source": []
  },
  {
   "cell_type": "code",
   "execution_count": null,
   "id": "1d24b2ca",
   "metadata": {},
   "outputs": [],
   "source": []
  }
 ],
 "metadata": {
  "kernelspec": {
   "display_name": "Python 3 (ipykernel)",
   "language": "python",
   "name": "python3"
  },
  "language_info": {
   "codemirror_mode": {
    "name": "ipython",
    "version": 3
   },
   "file_extension": ".py",
   "mimetype": "text/x-python",
   "name": "python",
   "nbconvert_exporter": "python",
   "pygments_lexer": "ipython3",
   "version": "3.9.13"
  }
 },
 "nbformat": 4,
 "nbformat_minor": 5
}
